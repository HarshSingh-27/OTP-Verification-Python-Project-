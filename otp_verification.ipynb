{
 "cells": [
  {
   "cell_type": "markdown",
   "id": "1b3e8b20-57d7-408a-8b5a-fe20715719e0",
   "metadata": {},
   "source": [
    "# OTP verification via email :\n"
   ]
  },
  {
   "cell_type": "code",
   "execution_count": 2,
   "id": "d3de5609-cb49-4922-bbbb-d82ae3f09adb",
   "metadata": {},
   "outputs": [
    {
     "name": "stdin",
     "output_type": "stream",
     "text": [
      "Enter your email:  shashi25272000@gmail.com\n",
      "Enter your password:  ········\n"
     ]
    },
    {
     "name": "stdout",
     "output_type": "stream",
     "text": [
      "OTP has been sent to your email.\n"
     ]
    },
    {
     "name": "stdin",
     "output_type": "stream",
     "text": [
      "Enter your OTP >>:  430881\n"
     ]
    },
    {
     "name": "stdout",
     "output_type": "stream",
     "text": [
      "Verified\n"
     ]
    }
   ],
   "source": [
    "import random\n",
    "import smtplib\n",
    "import getpass\n",
    "class OTPVerificationSystem:\n",
    "    def __init__(self):\n",
    "        self.otp = \"\"\n",
    "        self.email = \"\"\n",
    "        self.password = \"\"\n",
    "\n",
    "    def generate_otp(self):\n",
    "        digits = \"0123456789\"\n",
    "        self.otp = \"\".join(random.choice(digits) for _ in range(6))\n",
    "        return self.otp\n",
    "\n",
    "    def send_otp_email(self, email, password):\n",
    "        self.email = email\n",
    "        self.password = password\n",
    "        message = f\"Subject: OTP Verification\\n\\n{self.otp} is your OTP.\"\n",
    "        \n",
    "        try:\n",
    "            server = smtplib.SMTP('smtp.gmail.com', 587)\n",
    "            server.starttls()\n",
    "            server.login(self.email, self.password)\n",
    "            server.sendmail(self.email, self.email, message)\n",
    "            server.quit()\n",
    "            print(\"OTP has been sent to your email.\")\n",
    "        except smtplib.SMTPAuthenticationError:\n",
    "            print(\"Failed to send email: Authentication error. Check your email/password or security settings.\")\n",
    "        except Exception as e:\n",
    "            print(f\"Failed to send email: {e}\")\n",
    "\n",
    "    def verify_otp(self, entered_otp):\n",
    "        return entered_otp == self.otp\n",
    "\n",
    "    def prompt_user(self):\n",
    "        email = input(\"Enter your email: \")\n",
    "        password = getpass.getpass(\"Enter your password: \")\n",
    "\n",
    "        self.generate_otp()\n",
    "        self.send_otp_email(email, password)\n",
    "\n",
    "        entered_otp = input(\"Enter your OTP >>: \")\n",
    "        if self.verify_otp(entered_otp):\n",
    "            print(\"Verified\")\n",
    "        else:\n",
    "            print(\"Please check your OTP again\")\n",
    "\n",
    "if __name__ == \"__main__\":\n",
    "    otp_system = OTPVerificationSystem()  \n",
    "    otp_system.prompt_user()\n"
   ]
  },
  {
   "cell_type": "markdown",
   "id": "52853a4d-5df9-430e-a668-7c99c2ea0aed",
   "metadata": {},
   "source": [
    "# OTP verificication (GUI):"
   ]
  },
  {
   "cell_type": "code",
   "execution_count": null,
   "id": "c0c807ee-37eb-4f0e-8457-fa73c0d55317",
   "metadata": {},
   "outputs": [
    {
     "name": "stdout",
     "output_type": "stream",
     "text": [
      "OTP has been sent to your email.\n"
     ]
    }
   ],
   "source": [
    "import math\n",
    "import random\n",
    "import smtplib  # Import smtplib for sending emails\n",
    "import customtkinter as ctk  # Import customtkinter for creating the GUI\n",
    "from tkinter import messagebox  # Import messagebox for showing info and error messages\n",
    "\n",
    "# Function to generate a 6-digit OTP\n",
    "def generate_otp():\n",
    "    digits = \"0123456789\"\n",
    "    otp = \"\"\n",
    "    for i in range(6):\n",
    "        otp += digits[math.floor(random.random() * 10)]\n",
    "    return otp\n",
    "\n",
    "# Function to send the OTP via email\n",
    "def send_otp_email(otp, email, password):\n",
    "    message = f\"{otp} is your OTP\"  # Create the OTP message\n",
    "\n",
    "    try:\n",
    "        # Setup SMTP server connection\n",
    "        server = smtplib.SMTP('smtp.gmail.com', 587)\n",
    "        server.starttls()  # Start TLS for security\n",
    "        server.login(email, password)  # Login to the email server\n",
    "        server.sendmail(email, email, message)  # Send email to the same address\n",
    "        server.quit()  # Quit the server connection\n",
    "        print(\"OTP has been sent to your email.\")\n",
    "    except Exception as e:\n",
    "        # Handle any exceptions that occur during email sending\n",
    "        print(f\"Failed to send email: {e}\")\n",
    "\n",
    "# Function to verify OTP\n",
    "def verify_otp(generated_otp, entered_otp):\n",
    "    return generated_otp == entered_otp\n",
    "\n",
    "# Class for the OTP verification application\n",
    "class OTPVerificationApp:\n",
    "    def __init__(self, root):\n",
    "        self.root = root\n",
    "        self.root.title(\"OTP Verification System\")\n",
    "        self.root.geometry(\"700x700\")\n",
    "        ctk.set_appearance_mode(\"dark\")  # Set appearance mode to dark\n",
    "        ctk.set_default_color_theme(\"blue\")  # Set color theme to blue\n",
    "\n",
    "        self.otp = None\n",
    "        self.email = None\n",
    "        self.email_password = None\n",
    "\n",
    "        self.create_widgets()  # Call the method to create widgets\n",
    "\n",
    "    # Method to create the GUI widgets\n",
    "    def create_widgets(self):\n",
    "        self.frame = ctk.CTkFrame(master=self.root)\n",
    "        self.frame.pack(pady=20, padx=60, fill=\"both\", expand=True)\n",
    "\n",
    "        self.title_label = ctk.CTkLabel(master=self.frame, text=\"OTP Verification System\", font=(\"Arial\", 25, 'bold'), text_color=\"white\")\n",
    "        self.title_label.pack(pady=12, padx=10)\n",
    "\n",
    "        self.email_label = ctk.CTkLabel(master=self.frame, text=\"Email\", text_color=\"white\", font=(\"Arial\", 12, 'bold'))\n",
    "        self.email_label.pack(pady=12, padx=10)\n",
    "\n",
    "        self.email_entry = ctk.CTkEntry(master=self.frame, width=200)\n",
    "        self.email_entry.pack(pady=12, padx=10)\n",
    "\n",
    "        self.password_label = ctk.CTkLabel(master=self.frame, text=\"Email Password\", text_color=\"white\", font=(\"Arial\", 12, 'bold'))\n",
    "        self.password_label.pack(pady=12, padx=10)\n",
    "\n",
    "        self.password_entry = ctk.CTkEntry(master=self.frame, show=\"*\", width=200)\n",
    "        self.password_entry.pack(pady=12, padx=10)\n",
    "\n",
    "        self.send_otp_button = ctk.CTkButton(master=self.frame, text=\"Send OTP\", command=self.send_otp, fg_color=\"#00aaff\")\n",
    "        self.send_otp_button.pack(pady=20, padx=10)\n",
    "\n",
    "        self.otp_label = ctk.CTkLabel(master=self.frame, text=\"Enter OTP\", text_color=\"white\", font=(\"Arial\", 12, 'bold'))\n",
    "        self.otp_label.pack(pady=12, padx=10)\n",
    "\n",
    "        self.otp_entry = ctk.CTkEntry(master=self.frame, width=200)\n",
    "        self.otp_entry.pack(pady=12, padx=10)\n",
    "\n",
    "        self.verify_otp_button = ctk.CTkButton(master=self.frame, text=\"Verify OTP\", command=self.verify_otp, fg_color=\"#00aaff\")\n",
    "        self.verify_otp_button.pack(pady=20, padx=10)\n",
    "\n",
    "        self.result_label = ctk.CTkLabel(master=self.frame, text=\"\", font=(\"Arial\", 16, 'bold'))\n",
    "        self.result_label.pack(pady=12, padx=10)\n",
    "\n",
    "    # Method to handle sending OTP\n",
    "    def send_otp(self):\n",
    "        self.email = self.email_entry.get()  # Get email from entry\n",
    "        self.email_password = self.password_entry.get()  # Get password from entry\n",
    "        self.otp = generate_otp()  # Generate the OTP\n",
    "\n",
    "        send_otp_email(self.otp, self.email, self.email_password)  # Send the OTP email\n",
    "        messagebox.showinfo(\"Info\", \"OTP has been sent to your email.\")  # Show info message\n",
    "\n",
    "    # Method to handle verifying OTP\n",
    "    def verify_otp(self):\n",
    "        entered_otp = self.otp_entry.get()  # Get entered OTP from entry\n",
    "        if verify_otp(self.otp, entered_otp):  # Check if entered OTP matches generated OTP\n",
    "            self.result_label.configure(text=\"Verified\", text_color=\"green\", font=(\"Arial\", 16))  # Show verified message\n",
    "            messagebox.showinfo(\"Info\", \"Verified\")  # Show info message\n",
    "        else:\n",
    "            self.result_label.configure(text=\"Invalid OTP\", text_color=\"red\")  # Show invalid OTP message\n",
    "            messagebox.showerror(\"Error\", \"Invalid OTP. Please check your OTP again.\")  # Show error message\n",
    "\n",
    "# Main execution block\n",
    "if __name__ == \"__main__\":\n",
    "    root = ctk.CTk()  # Create the main window\n",
    "    app = OTPVerificationApp(root)  # Create an instance of the OTPVerificationApp\n",
    "    root.mainloop()  # Start the main event loop\n"
   ]
  },
  {
   "cell_type": "code",
   "execution_count": null,
   "id": "9446c79f-654b-41bb-9ab4-ea10f247c2bb",
   "metadata": {},
   "outputs": [],
   "source": [
    "\n"
   ]
  },
  {
   "cell_type": "code",
   "execution_count": null,
   "id": "fd922578-f3e7-4f6a-bdc5-84202d85fd6b",
   "metadata": {},
   "outputs": [],
   "source": []
  }
 ],
 "metadata": {
  "kernelspec": {
   "display_name": "Python 3 (ipykernel)",
   "language": "python",
   "name": "python3"
  },
  "language_info": {
   "codemirror_mode": {
    "name": "ipython",
    "version": 3
   },
   "file_extension": ".py",
   "mimetype": "text/x-python",
   "name": "python",
   "nbconvert_exporter": "python",
   "pygments_lexer": "ipython3",
   "version": "3.12.5"
  }
 },
 "nbformat": 4,
 "nbformat_minor": 5
}
